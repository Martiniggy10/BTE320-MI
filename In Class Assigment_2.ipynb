{
  "nbformat": 4,
  "nbformat_minor": 0,
  "metadata": {
    "colab": {
      "provenance": [],
      "authorship_tag": "ABX9TyOdhp+/zyDUzWEE/SnHPJTU",
      "include_colab_link": true
    },
    "kernelspec": {
      "name": "python3",
      "display_name": "Python 3"
    },
    "language_info": {
      "name": "python"
    }
  },
  "cells": [
    {
      "cell_type": "markdown",
      "metadata": {
        "id": "view-in-github",
        "colab_type": "text"
      },
      "source": [
        "<a href=\"https://colab.research.google.com/github/Martiniggy10/BTE320-MI/blob/main/In%20Class%20Assigment_2.ipynb\" target=\"_parent\"><img src=\"https://colab.research.google.com/assets/colab-badge.svg\" alt=\"Open In Colab\"/></a>"
      ]
    },
    {
      "cell_type": "code",
      "execution_count": 12,
      "metadata": {
        "colab": {
          "base_uri": "https://localhost:8080/"
        },
        "id": "ssa_yYL_TSqd",
        "outputId": "cfcf3a85-ae64-4ee1-c69c-a98899853448"
      },
      "outputs": [
        {
          "output_type": "stream",
          "name": "stdout",
          "text": [
            "Enter first number: 4\n",
            "Enter second number: 20\n",
            "Enter operator: %\n",
            "4.0 % 20.0 = 4.0\n"
          ]
        }
      ],
      "source": [
        "n1 = float(input('Enter first number: '))\n",
        "n2 = float(input('Enter second number: '))\n",
        "op = input('Enter operator: ')\n",
        "\n",
        "if op == '+':\n",
        "  res = n1 + n2\n",
        "elif op == '-':\n",
        "  res = n1 - n2\n",
        "elif op == '*':\n",
        "  res = n1 * n2\n",
        "elif op == '/':\n",
        "  res = n1 / n2\n",
        "elif op == '//':\n",
        "  res = n1 // n2\n",
        "elif op == '**':\n",
        "  res = n1 ** n2\n",
        "elif op == '%':\n",
        "  res = n1 % n2\n",
        "else:\n",
        "  res = 'Invalid operator!'\n",
        "\n",
        "print(f'{n1} {op} {n2} = {res}')"
      ]
    }
  ]
}